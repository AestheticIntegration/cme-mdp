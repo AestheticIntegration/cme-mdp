{
 "cells": [
  {
   "cell_type": "markdown",
   "metadata": {},
   "source": [
    "Lets start with the basic idea of the \"agebraic\" handling of combinatorics.  \n",
    "Suppose that we want to consider all the three-letter combinations from  \n",
    "the $\\{a,b\\}$ set. If we now look at the following expression:  \n",
    "$$ (a+b)(a+b)(a+b) = (a+b)^3$$\n",
    "Assuming that multiplication is non-commutative, but distibutive over addition, we\n",
    "can expand the brackets, getting: \n",
    "$$ aaa + aab + aba + abb + baa + bab + bba + bbb$$  "
   ]
  },
  {
   "cell_type": "markdown",
   "metadata": {},
   "source": [
    "We can interpret addition as some kind of `Alternative` operation: $(a+b)$ meaning \"either $a$ or $b$\".  \n",
    "And interpreting multiplication as a `Sequence` operation: $(a+b)\\,c$ meaning \"(either $a$ or $b$) followed by $c$\".  \n",
    "This way we, basically, have encoded all combinations of  "
   ]
  },
  {
   "cell_type": "code",
   "execution_count": 2,
   "metadata": {
    "collapsed": false
   },
   "outputs": [],
   "source": [
    "from aglebraic_codegen import *"
   ]
  },
  {
   "cell_type": "code",
   "execution_count": 4,
   "metadata": {
    "collapsed": false
   },
   "outputs": [
    {
     "data": {
      "text/plain": [
       "<aglebraic_codegen.Sequence at 0x7fef9fbd4690>"
      ]
     },
     "execution_count": 4,
     "metadata": {},
     "output_type": "execute_result"
    }
   ],
   "source": [
    "3*(Sequence(var=\"a\") | Sequence(var=\"b\")) "
   ]
  },
  {
   "cell_type": "code",
   "execution_count": null,
   "metadata": {
    "collapsed": true
   },
   "outputs": [],
   "source": [
    "def sample(x):\n",
    "    if hasattr(x, \"alt\"):\n",
    "        return sample(random.choice(x.alt))\n",
    "    if hasattr(x, \"seq\"):\n",
    "        r = []\n",
    "        for s in x.seq:\n",
    "            r += sample(s)\n",
    "        return r\n",
    "    return [x]"
   ]
  },
  {
   "cell_type": "code",
   "execution_count": 57,
   "metadata": {
    "collapsed": false
   },
   "outputs": [],
   "source": [
    "def scan(x):\n",
    "    if hasattr(x, \"alt\"):\n",
    "        for a in x.alt:\n",
    "            for v in scan(a):\n",
    "                yield v\n",
    "        return\n",
    "    if hasattr(x, \"seq\"):\n",
    "        if len(x.seq) == 1:\n",
    "            yield x.seq\n",
    "        else:\n",
    "            for v in scan(a):\n",
    "        return\n",
    "        \n",
    "    print \"fell\""
   ]
  },
  {
   "cell_type": "code",
   "execution_count": 22,
   "metadata": {
    "collapsed": false
   },
   "outputs": [
    {
     "name": "stdout",
     "output_type": "stream",
     "text": [
      "0 [[[<aglebraic_codegen.Sequence object at 0x7fef9faf50d0>, <aglebraic_codegen.Sequence object at 0x7fef9faf5510>]], [<aglebraic_codegen.Alternative object at 0x7fef9faf53d0>], [[<aglebraic_codegen.Sequence object at 0x7fef9faf50d0>, <aglebraic_codegen.Sequence object at 0x7fef9faf5510>]], [<aglebraic_codegen.Alternative object at 0x7fef9faf53d0>], [[<aglebraic_codegen.Sequence object at 0x7fef9faf50d0>, <aglebraic_codegen.Sequence object at 0x7fef9faf5510>]], [<aglebraic_codegen.Alternative object at 0x7fef9faf53d0>]] 1 [<aglebraic_codegen.Sequence object at 0x7fef9faf54d0>]\n"
     ]
    }
   ],
   "source": [
    "for a,b in enumerate(scan(3*(Sequence(var=\"a\") | Sequence(var=\"b\")))):\n",
    "    if a==10: break\n",
    "    print a,b,"
   ]
  },
  {
   "cell_type": "code",
   "execution_count": 59,
   "metadata": {
    "collapsed": false
   },
   "outputs": [
    {
     "data": {
      "text/plain": [
       "[{'var': 'b'}, {'var': 'c'}, {'var': 'q'}]"
      ]
     },
     "execution_count": 59,
     "metadata": {},
     "output_type": "execute_result"
    }
   ],
   "source": [
    "x = (Sequence(var=\"b\") | Sequence(var=\"c\") |  Sequence(var=\"q\") )\n",
    "list(scan(x))\n"
   ]
  },
  {
   "cell_type": "code",
   "execution_count": 34,
   "metadata": {
    "collapsed": false
   },
   "outputs": [
    {
     "name": "stdout",
     "output_type": "stream",
     "text": [
      "5\n",
      "4\n",
      "3\n",
      "2\n",
      "1\n",
      "0\n"
     ]
    },
    {
     "data": {
      "text/plain": [
       "0"
      ]
     },
     "execution_count": 34,
     "metadata": {},
     "output_type": "execute_result"
    }
   ],
   "source": [
    "def f(x):\n",
    "    print x\n",
    "    if(x == 0): \n",
    "        yield 0\n",
    "    else: \n",
    "        for n in f(x-1):\n",
    "           yield n \n",
    "        \n",
    "next(f(5))"
   ]
  },
  {
   "cell_type": "code",
   "execution_count": null,
   "metadata": {
    "collapsed": true
   },
   "outputs": [],
   "source": []
  }
 ],
 "metadata": {
  "kernelspec": {
   "display_name": "Python 2",
   "language": "python",
   "name": "python2"
  },
  "language_info": {
   "codemirror_mode": {
    "name": "ipython",
    "version": 2
   },
   "file_extension": ".py",
   "mimetype": "text/x-python",
   "name": "python",
   "nbconvert_exporter": "python",
   "pygments_lexer": "ipython2",
   "version": "2.7.12"
  }
 },
 "nbformat": 4,
 "nbformat_minor": 1
}
